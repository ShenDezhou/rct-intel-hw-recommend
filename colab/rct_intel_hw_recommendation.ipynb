{
  "nbformat": 4,
  "nbformat_minor": 0,
  "metadata": {
    "accelerator": "GPU",
    "colab": {
      "name": "rct-intel-hw-recommendation.ipynb",
      "provenance": [],
      "collapsed_sections": [],
      "machine_shape": "hm",
      "mount_file_id": "1QJz6aSWoe0WKa8XCjCWB8pGcBSBGX14e",
      "authorship_tag": "ABX9TyNmefDPul38JchtmiK/6u1K",
      "include_colab_link": true
    },
    "kernelspec": {
      "display_name": "Python 3",
      "name": "python3"
    }
  },
  "cells": [
    {
      "cell_type": "markdown",
      "metadata": {
        "id": "view-in-github",
        "colab_type": "text"
      },
      "source": [
        "<a href=\"https://colab.research.google.com/github/ShenDezhou/rct-intel-hw-recommend/blob/master/colab/rct_intel_hw_recommendation.ipynb\" target=\"_parent\"><img src=\"https://colab.research.google.com/assets/colab-badge.svg\" alt=\"Open In Colab\"/></a>"
      ]
    },
    {
      "cell_type": "code",
      "metadata": {
        "id": "eYPMoW4Z7oCF"
      },
      "source": [
        "import os\n",
        "os.chdir('/content/drive/MyDrive/')\n",
        "!git clone https://github.com/ShenDezhou/rct-intel-hw-recommend\n",
        "os.chdir('rct-intel-hw-recommend')\n",
        "os.mkdir('data')\n",
        "os.chdir('data')\n",
        "!wget https://dldir1.qq.com/weixin/wealgo/wechat_algo_data1.zip\n",
        "!unzip wechat_algo_data1.zip"
      ],
      "execution_count": null,
      "outputs": []
    },
    {
      "cell_type": "code",
      "metadata": {
        "id": "mECaR4kjYuaB"
      },
      "source": [
        "!git pull\n",
        "!pip3 install -r \"/content/drive/MyDrive/rct-intel-hw-recommend/pytorch/requirements.txt\"\n",
        "os.chdir('/content/drive/MyDrive/rct-intel-hw-recommend/pytorch/')"
      ],
      "execution_count": null,
      "outputs": []
    },
    {
      "cell_type": "code",
      "metadata": {
        "id": "q2IsAvTqthgA"
      },
      "source": [
        "!python prepare_data.py"
      ],
      "execution_count": null,
      "outputs": []
    },
    {
      "cell_type": "code",
      "metadata": {
        "colab": {
          "base_uri": "https://localhost:8080/"
        },
        "id": "UDJTXLfe-sCB",
        "outputId": "01070c30-2293-47ab-d79b-1e0e74972360"
      },
      "source": [
        "!git pull\n",
        "!python baseline.py"
      ],
      "execution_count": null,
      "outputs": [
        {
          "output_type": "stream",
          "text": [
            "Already up to date.\n",
            "2021-06-19 02:28:10.722365: I tensorflow/stream_executor/platform/default/dso_loader.cc:53] Successfully opened dynamic library libcudart.so.11.0\n",
            "posi prop:\n",
            "0.15565121499983292\n",
            "cuda ready...\n",
            "parallel running on these gpus: [0]\n",
            "Train on 1316708 samples, validate on 329177 samples, 2572 steps per epoch\n",
            "2572it [04:51,  8.82it/s]\n",
            "Epoch 1/5\n",
            "304s - loss:  0.2584 - binary_crossentropy:  0.2373 - auc:  0.9203 - val_binary_crossentropy:  0.2243 - val_auc:  0.9340\n",
            "2572it [04:50,  8.84it/s]\n",
            "Epoch 2/5\n",
            "304s - loss:  0.2343 - binary_crossentropy:  0.2178 - auc:  0.9389 - val_binary_crossentropy:  0.2213 - val_auc:  0.9361\n",
            "2572it [04:51,  8.83it/s]\n",
            "Epoch 3/5\n",
            "304s - loss:  0.2279 - binary_crossentropy:  0.2133 - auc:  0.9421 - val_binary_crossentropy:  0.2189 - val_auc:  0.9378\n",
            "2572it [04:49,  8.88it/s]\n",
            "Epoch 4/5\n",
            "303s - loss:  0.2214 - binary_crossentropy:  0.2092 - auc:  0.9449 - val_binary_crossentropy:  0.2171 - val_auc:  0.9390\n",
            "2572it [04:49,  8.87it/s]\n",
            "Epoch 5/5\n",
            "303s - loss:  0.2168 - binary_crossentropy:  0.2061 - auc:  0.9469 - val_binary_crossentropy:  0.2174 - val_auc:  0.9387\n",
            "posi prop:\n",
            "0.11860030306914048\n",
            "cuda ready...\n",
            "parallel running on these gpus: [0]\n",
            "Train on 1273372 samples, validate on 318344 samples, 2488 steps per epoch\n",
            "2488it [04:40,  8.86it/s]\n",
            "Epoch 1/5\n",
            "293s - loss:  0.2875 - binary_crossentropy:  0.2676 - auc:  0.8358 - val_binary_crossentropy:  0.2537 - val_auc:  0.8588\n",
            "2488it [04:41,  8.85it/s]\n",
            "Epoch 2/5\n",
            "293s - loss:  0.2640 - binary_crossentropy:  0.2497 - auc:  0.8679 - val_binary_crossentropy:  0.2531 - val_auc:  0.8616\n",
            "2488it [04:40,  8.86it/s]\n",
            "Epoch 3/5\n",
            "293s - loss:  0.2575 - binary_crossentropy:  0.2453 - auc:  0.8752 - val_binary_crossentropy:  0.2504 - val_auc:  0.8644\n",
            "2488it [04:38,  8.95it/s]\n",
            "Epoch 4/5\n",
            "291s - loss:  0.2523 - binary_crossentropy:  0.2414 - auc:  0.8811 - val_binary_crossentropy:  0.2500 - val_auc:  0.8647\n",
            "2488it [04:40,  8.85it/s]\n",
            "Epoch 5/5\n",
            "293s - loss:  0.2480 - binary_crossentropy:  0.2381 - auc:  0.8861 - val_binary_crossentropy:  0.2490 - val_auc:  0.8660\n",
            "posi prop:\n",
            "0.0371053151111731\n",
            "cuda ready...\n",
            "parallel running on these gpus: [0]\n",
            "Train on 1187301 samples, validate on 296826 samples, 2319 steps per epoch\n",
            "1737it [03:19,  8.37it/s]"
          ],
          "name": "stdout"
        }
      ]
    }
  ]
}